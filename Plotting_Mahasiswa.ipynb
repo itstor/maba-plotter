{
  "nbformat": 4,
  "nbformat_minor": 0,
  "metadata": {
    "colab": {
      "name": "Plotting Mahasiswa",
      "provenance": []
    },
    "kernelspec": {
      "name": "python3",
      "display_name": "Python 3"
    },
    "language_info": {
      "name": "python"
    }
  },
  "cells": [
    {
      "cell_type": "markdown",
      "metadata": {
        "id": "Y4bJam9eAloa"
      },
      "source": [
        "# **Mahasiswa Plotter**"
      ]
    },
    {
      "cell_type": "markdown",
      "metadata": {
        "id": "yus0H5abBMDI"
      },
      "source": [
        "Jalankan sesuai dengan urutan"
      ]
    },
    {
      "cell_type": "code",
      "metadata": {
        "colab": {
          "resources": {
            "http://localhost:8080/nbextensions/google.colab/files.js": {
              "data": "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",
              "ok": true,
              "headers": [
                [
                  "content-type",
                  "application/javascript"
                ]
              ],
              "status": 200,
              "status_text": ""
            }
          },
          "base_uri": "https://localhost:8080/",
          "height": 72
        },
        "id": "o7zEbEJyAipF",
        "cellView": "form",
        "outputId": "64b923be-43e1-415b-a08b-04640a841647"
      },
      "source": [
        "#@title 1. Upload data mahasiswa\n",
        "from google.colab import files\n",
        "import numpy as np\n",
        "import pandas as pd\n",
        "import math\n",
        "import io\n",
        "\n",
        "dataset = files.upload()\n",
        "data = pd.read_csv(io.StringIO(dataset[next(iter(dataset))].decode('utf-8')))"
      ],
      "execution_count": null,
      "outputs": [
        {
          "output_type": "display_data",
          "data": {
            "text/html": [
              "\n",
              "     <input type=\"file\" id=\"files-e378a6c0-785e-437e-97af-c2f9bcf80656\" name=\"files[]\" multiple disabled\n",
              "        style=\"border:none\" />\n",
              "     <output id=\"result-e378a6c0-785e-437e-97af-c2f9bcf80656\">\n",
              "      Upload widget is only available when the cell has been executed in the\n",
              "      current browser session. Please rerun this cell to enable.\n",
              "      </output>\n",
              "      <script src=\"/nbextensions/google.colab/files.js\"></script> "
            ],
            "text/plain": [
              "<IPython.core.display.HTML object>"
            ]
          },
          "metadata": {
            "tags": []
          }
        },
        {
          "output_type": "stream",
          "text": [
            "Saving Salinan-dari-Daftar-Nama-Mahasiswa-Baru-2021.csv to Salinan-dari-Daftar-Nama-Mahasiswa-Baru-2021.csv\n"
          ],
          "name": "stdout"
        }
      ]
    },
    {
      "cell_type": "code",
      "metadata": {
        "id": "WLv2OkR4P3RI",
        "cellView": "form"
      },
      "source": [
        "#@title 2. Pengaturan\n",
        "#@markdown Jika pembagian berdasarkan jumlah kelompok, set nilai anggota_per_tim menjadi 0\n",
        "nama_kolom_fakultas = \"Fakultas\" #@param {type:\"string\"}\n",
        "nama_kolom_gender = \"Jenis Kelamin\" #@param {type:\"string\"}\n",
        "nama_kolom_namaMahasiswa = \"Nama Lengkap\" #@param {type:\"string\"}\n",
        "anggota_per_tim = 0 #@param {type:\"integer\"}\n",
        "jumlah_kelompok = 330 #@param {type:\"integer\"}\n",
        "output_filename = \"Data Kelompok Mahasiswa Baru 2021\" #@param {type:\"string\"}\n",
        "\n",
        "totalTeam = jumlah_kelompok if jumlah_kelompok != 0 else math.ceil(len(data) / anggota_per_tim)\n",
        "\n",
        "data = data.dropna(axis = 0, subset=[nama_kolom_namaMahasiswa])"
      ],
      "execution_count": null,
      "outputs": []
    },
    {
      "cell_type": "code",
      "metadata": {
        "id": "l_51CGt_QZtf",
        "colab": {
          "base_uri": "https://localhost:8080/"
        },
        "cellView": "form",
        "outputId": "90229917-6deb-496c-f906-20d66a49b645"
      },
      "source": [
        "#@title 3. Cek data\n",
        " \n",
        "data.head()\n",
        "print(data[nama_kolom_fakultas].value_counts(), \"\\n\")\n",
        "print(data[nama_kolom_gender].value_counts(), \"\\n\")\n",
        "print(f\"Total Data {len(data)}\")\n",
        "print(f\"Rasio gender {min(data[nama_kolom_gender].value_counts())/max(data[nama_kolom_gender].value_counts())}\")\n",
        "print(f\"Banyaknya tim yang dibentuk {totalTeam}\")\n",
        " \n",
        "print()\n",
        " \n",
        "if (data.duplicated(nama_kolom_namaMahasiswa).nunique() > 1):\n",
        "    print(f\"Terdapat {data.duplicated(nama_kolom_namaMahasiswa, keep='last').value_counts().values[1]} nama yang sama\\n\\n{pd.DataFrame(data[data.duplicated(nama_kolom_namaMahasiswa, keep=False)]).sort_values(nama_kolom_namaMahasiswa)}\")\n",
        "else:\n",
        "    print(\"Tidak ada data yang sama\")"
      ],
      "execution_count": null,
      "outputs": [
        {
          "output_type": "stream",
          "text": [
            "Fakultas Keguruan dan Ilmu Pendidikan (FKIP)             1822\n",
            "Sekolah Vokasi (SV)                                       906\n",
            "Fakultas Teknik (FT)                                      706\n",
            "Fakultas Pertanian (FP)                                   674\n",
            "Fakultas Ekonomi dan Bisnis (FEB)                         657\n",
            "Fakultas Matematika dan Ilmu Pengetahuan Alam (FMIPA)     522\n",
            "Fakultas Ilmu Budaya (FIB)                                355\n",
            "Fakultas Ilmu Sosial Dan Politik (FISIP)                  338\n",
            "Fakultas Kedokteran (FK)                                  287\n",
            "Fakultas Seni Rupa dan Desain (FSRD)                      248\n",
            "Fakutas Keolahragaan (FKOR)                               237\n",
            "Fakultas Hukum (FH)                                       116\n",
            "Name: Fakultas, dtype: int64 \n",
            "\n",
            "Perempuan    4543\n",
            "Laki-laki    2325\n",
            "Name: Jenis Kelamin, dtype: int64 \n",
            "\n",
            "Total Data 6868\n",
            "Rasio gender 0.5117763592339863\n",
            "Banyaknya tim yang dibentuk 330\n",
            "\n",
            "Terdapat 11 nama yang sama\n",
            "\n",
            "                                Nama Lengkap  ... Unnamed: 26\n",
            "5729                     AISYAH KHOERUL NISA  ...         NaN\n",
            "5728                     AISYAH KHOERUL NISA  ...         NaN\n",
            "6813  Chafka Valentina Chery Putri Margareta  ...         NaN\n",
            "6812  Chafka Valentina Chery Putri Margareta  ...         NaN\n",
            "5603                  Diantha Putri Indratmo  ...         NaN\n",
            "5602                  Diantha Putri Indratmo  ...         NaN\n",
            "2944                       Eka Nur Fazriyani  ...         NaN\n",
            "2945                       Eka Nur Fazriyani  ...         NaN\n",
            "2197              Fauzi Satria Aji Pamungkas  ...         NaN\n",
            "2198              Fauzi Satria Aji Pamungkas  ...         NaN\n",
            "5634                                   Kevin  ...         NaN\n",
            "4796                                   Kevin  ...         NaN\n",
            "330                              Khairunnisa  ...         NaN\n",
            "2958                             Khairunnisa  ...         NaN\n",
            "1793                            Khoirun Nisa  ...         NaN\n",
            "1697                            Khoirun Nisa  ...         NaN\n",
            "5783                            LILIS KURNIA  ...         NaN\n",
            "5784                            LILIS KURNIA  ...         NaN\n",
            "5790                  Muhammad Ilham Fathoni  ...         NaN\n",
            "5791                  Muhammad Ilham Fathoni  ...         NaN\n",
            "2410                            Siti Fatimah  ...         NaN\n",
            "5189                            Siti Fatimah  ...         NaN\n",
            "\n",
            "[22 rows x 27 columns]\n"
          ],
          "name": "stdout"
        }
      ]
    },
    {
      "cell_type": "code",
      "metadata": {
        "id": "3aGUJoxaQmJe",
        "cellView": "form"
      },
      "source": [
        "#@title 4a. Hapus data duplikat (opsional)\n",
        "\n",
        "data = data.drop_duplicates(subset = nama_kolom_namaMahasiswa, keep = 'first')"
      ],
      "execution_count": null,
      "outputs": []
    },
    {
      "cell_type": "code",
      "metadata": {
        "id": "jSpuDH1gSpfA",
        "colab": {
          "base_uri": "https://localhost:8080/"
        },
        "cellView": "form",
        "outputId": "5045064f-4912-4377-d630-1a24205b8b7d"
      },
      "source": [
        "#@title 4b. Cek ulang data (opsional)\n",
        "\n",
        "data.head()\n",
        "print(data[nama_kolom_fakultas].value_counts())\n",
        "print(data[nama_kolom_gender].value_counts())\n",
        "print(f\"Total Data {len(data)}\")\n",
        "print(f\"Rasio gender {min(data[nama_kolom_gender].value_counts())/max(data[nama_kolom_gender].value_counts())}\")\n",
        "print(f\"Banyaknya tim yang dibentuk {totalTeam}\")\n",
        "\n",
        "print()\n",
        "\n",
        "if (data.duplicated(nama_kolom_namaMahasiswa).nunique() > 1):\n",
        "    print(f\"Terdapat {data.duplicated(nama_kolom_namaMahasiswa, keep='last').value_counts().values[1]} nama yang sama\\n\\n{pd.DataFrame(data[data.duplicated(nama_kolom_namaMahasiswa, keep=False)]).sort_values(nama_kolom_namaMahasiswa)}\")\n",
        "else:\n",
        "    print(\"Tidak ada data yang sama\")"
      ],
      "execution_count": null,
      "outputs": [
        {
          "output_type": "stream",
          "text": [
            "Fakultas Keguruan dan Ilmu Pendidikan            1817\n",
            "Sekolah Vokasi                                    906\n",
            "Fakultas Teknik                                   703\n",
            "Fakultas Pertanian                                674\n",
            "Fakultas Ekonomi dan Bisnis                       656\n",
            "Fakultas Matematika dan Ilmu Pengetahuan Alam     522\n",
            "Fakultas Ilmu Budaya                              355\n",
            "Fakultas Ilmu Sosial dan Politik                  338\n",
            "Fakultas Kedokteran                               287\n",
            "Fakultas Seni Rupa dan Desain                     248\n",
            "Fakultas Keolahragaan                             233\n",
            "Fakultas Hukum                                    116\n",
            "Name: Fakultas, dtype: int64\n",
            "Perempuan    4534\n",
            "Laki-laki    2321\n",
            "Name: Jenis Kelamin, dtype: int64\n",
            "Total Data 6855\n",
            "Rasio gender 0.5119100132333481\n",
            "Banyaknya tim yang dibentuk 330\n",
            "\n",
            "Tidak ada data yang sama\n"
          ],
          "name": "stdout"
        }
      ]
    },
    {
      "cell_type": "code",
      "metadata": {
        "colab": {
          "base_uri": "https://localhost:8080/",
          "height": 34
        },
        "id": "1IUNPDWbBTwF",
        "cellView": "form",
        "outputId": "633808f6-d37c-44fa-8b1e-949a32060f4f"
      },
      "source": [
        "#@title 5. Proses data\n",
        "\n",
        "print(\"memproses\")\n",
        "\n",
        "dataNew = data.assign(x = ((pd.factorize(data[nama_kolom_fakultas])[0] + 1) * 10 + (pd.factorize(data[nama_kolom_gender])[0] + 1) * np.random.uniform(0.99,1.01,len(data))),).sort_values(\"x\").reset_index(drop=True).assign(kelompok=lambda dfa: (dfa.index % totalTeam) + 1).drop(columns=\"x\").sort_values(\"kelompok\")\n",
        "\n",
        "dataNew.to_excel(output_filename + \".xlsx\", header=True, index=False)\n",
        "\n",
        "files.download(output_filename + \".xlsx\")"
      ],
      "execution_count": null,
      "outputs": [
        {
          "output_type": "stream",
          "text": [
            "memproses\n"
          ],
          "name": "stdout"
        },
        {
          "output_type": "display_data",
          "data": {
            "application/javascript": [
              "\n",
              "    async function download(id, filename, size) {\n",
              "      if (!google.colab.kernel.accessAllowed) {\n",
              "        return;\n",
              "      }\n",
              "      const div = document.createElement('div');\n",
              "      const label = document.createElement('label');\n",
              "      label.textContent = `Downloading \"${filename}\": `;\n",
              "      div.appendChild(label);\n",
              "      const progress = document.createElement('progress');\n",
              "      progress.max = size;\n",
              "      div.appendChild(progress);\n",
              "      document.body.appendChild(div);\n",
              "\n",
              "      const buffers = [];\n",
              "      let downloaded = 0;\n",
              "\n",
              "      const channel = await google.colab.kernel.comms.open(id);\n",
              "      // Send a message to notify the kernel that we're ready.\n",
              "      channel.send({})\n",
              "\n",
              "      for await (const message of channel.messages) {\n",
              "        // Send a message to notify the kernel that we're ready.\n",
              "        channel.send({})\n",
              "        if (message.buffers) {\n",
              "          for (const buffer of message.buffers) {\n",
              "            buffers.push(buffer);\n",
              "            downloaded += buffer.byteLength;\n",
              "            progress.value = downloaded;\n",
              "          }\n",
              "        }\n",
              "      }\n",
              "      const blob = new Blob(buffers, {type: 'application/binary'});\n",
              "      const a = document.createElement('a');\n",
              "      a.href = window.URL.createObjectURL(blob);\n",
              "      a.download = filename;\n",
              "      div.appendChild(a);\n",
              "      a.click();\n",
              "      div.remove();\n",
              "    }\n",
              "  "
            ],
            "text/plain": [
              "<IPython.core.display.Javascript object>"
            ]
          },
          "metadata": {
            "tags": []
          }
        },
        {
          "output_type": "display_data",
          "data": {
            "application/javascript": [
              "download(\"download_f847f204-1219-4a51-b5de-b1d0633a79ea\", \"Data Kelompok Mahasiswa Baru 2021.xlsx\", 559180)"
            ],
            "text/plain": [
              "<IPython.core.display.Javascript object>"
            ]
          },
          "metadata": {
            "tags": []
          }
        }
      ]
    }
  ]
}